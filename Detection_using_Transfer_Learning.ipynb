{
  "nbformat": 4,
  "nbformat_minor": 0,
  "metadata": {
    "colab": {
      "name": "Copy of Currency Detection using Transfer Learning.ipynb",
      "provenance": [],
      "machine_shape": "hm"
    },
    "kernelspec": {
      "name": "python3",
      "display_name": "Python 3"
    }
  },
  "cells": [
    {
      "cell_type": "code",
      "metadata": {
        "id": "32vyk3_tc2Uf",
        "colab_type": "code",
        "outputId": "d68f642e-69ce-4cd5-b0fb-6dd98fa831a2",
        "colab": {
          "base_uri": "https://localhost:8080/",
          "height": 146
        }
      },
      "source": [
        "from google.colab import drive\n",
        "drive.mount('/content/gdrive')\n",
        "import os\n",
        "print(os.listdir('/content/gdrive/My Drive/MONEY DETECTION DATA/valid'))"
      ],
      "execution_count": 0,
      "outputs": [
        {
          "output_type": "stream",
          "text": [
            "Go to this URL in a browser: https://accounts.google.com/o/oauth2/auth?client_id=947318989803-6bn6qk8qdgf4n4g3pfee6491hc0brc4i.apps.googleusercontent.com&redirect_uri=urn%3aietf%3awg%3aoauth%3a2.0%3aoob&response_type=code&scope=email%20https%3a%2f%2fwww.googleapis.com%2fauth%2fdocs.test%20https%3a%2f%2fwww.googleapis.com%2fauth%2fdrive%20https%3a%2f%2fwww.googleapis.com%2fauth%2fdrive.photos.readonly%20https%3a%2f%2fwww.googleapis.com%2fauth%2fpeopleapi.readonly\n",
            "\n",
            "Enter your authorization code:\n",
            "··········\n",
            "Mounted at /content/gdrive\n",
            "['100', '10', '50', '500', '1000', '20', 'None', '5']\n"
          ],
          "name": "stdout"
        }
      ]
    },
    {
      "cell_type": "code",
      "metadata": {
        "id": "AD14spUMeEoG",
        "colab_type": "code",
        "outputId": "c24d8c98-c5fe-4739-bec7-41045d868915",
        "colab": {
          "base_uri": "https://localhost:8080/",
          "height": 35
        }
      },
      "source": [
        "#dependencies  \n",
        "import keras \n",
        "from keras import Model, Sequential, layers, models\n",
        "from keras.preprocessing.image import ImageDataGenerator\n",
        "from PIL import ImageFile"
      ],
      "execution_count": 0,
      "outputs": [
        {
          "output_type": "stream",
          "text": [
            "Using TensorFlow backend.\n"
          ],
          "name": "stderr"
        }
      ]
    },
    {
      "cell_type": "code",
      "metadata": {
        "id": "d5IpySBieauS",
        "colab_type": "code",
        "colab": {}
      },
      "source": [
        "#variable declerations \n",
        "image_width = 256\n",
        "image_height = 256\n",
        "batch_size = 8\n",
        "no_of_training_sample = 250\n",
        "no_of_validation_sample = 50\n",
        "epochs = 70\n",
        "train_path = '/content/gdrive/My Drive/MONEY DETECTION DATA/train'\n",
        "valid_path = '/content/gdrive/My Drive/MONEY DETECTION DATA/valid'\n"
      ],
      "execution_count": 0,
      "outputs": []
    },
    {
      "cell_type": "code",
      "metadata": {
        "id": "NUeiht7Me5Uu",
        "colab_type": "code",
        "outputId": "ebf5251a-5d27-4510-f821-f62a4d6a80fd",
        "colab": {
          "base_uri": "https://localhost:8080/",
          "height": 1000
        }
      },
      "source": [
        "#preparing model \n",
        "model = keras.applications.VGG19(include_top=False, weights='imagenet',input_shape=(image_height,image_width,3))\n",
        "#freezing all the layers except  last layer \n",
        "for layer in model.layers[:-2]:\n",
        "  layer.trainable = False\n",
        "\n",
        "#adding custom layers\n",
        "x = model.output\n",
        "x = layers.Flatten()(x)\n",
        "x = layers.Dense(1024, activation='relu')(x)\n",
        "predictions = layers.Dense(8, activation='softmax')(x)\n",
        "model_final = Model(inputs=model.input, outputs=predictions)\n",
        "model_final.compile(loss = 'categorical_crossentropy', optimizer='Adam', metrics=['accuracy'])\n",
        "model_final.summary()"
      ],
      "execution_count": 0,
      "outputs": [
        {
          "output_type": "stream",
          "text": [
            "Downloading data from https://github.com/fchollet/deep-learning-models/releases/download/v0.1/vgg19_weights_tf_dim_ordering_tf_kernels_notop.h5\n",
            "80142336/80134624 [==============================] - 1s 0us/step\n",
            "Model: \"model_1\"\n",
            "_________________________________________________________________\n",
            "Layer (type)                 Output Shape              Param #   \n",
            "=================================================================\n",
            "input_1 (InputLayer)         (None, 256, 256, 3)       0         \n",
            "_________________________________________________________________\n",
            "block1_conv1 (Conv2D)        (None, 256, 256, 64)      1792      \n",
            "_________________________________________________________________\n",
            "block1_conv2 (Conv2D)        (None, 256, 256, 64)      36928     \n",
            "_________________________________________________________________\n",
            "block1_pool (MaxPooling2D)   (None, 128, 128, 64)      0         \n",
            "_________________________________________________________________\n",
            "block2_conv1 (Conv2D)        (None, 128, 128, 128)     73856     \n",
            "_________________________________________________________________\n",
            "block2_conv2 (Conv2D)        (None, 128, 128, 128)     147584    \n",
            "_________________________________________________________________\n",
            "block2_pool (MaxPooling2D)   (None, 64, 64, 128)       0         \n",
            "_________________________________________________________________\n",
            "block3_conv1 (Conv2D)        (None, 64, 64, 256)       295168    \n",
            "_________________________________________________________________\n",
            "block3_conv2 (Conv2D)        (None, 64, 64, 256)       590080    \n",
            "_________________________________________________________________\n",
            "block3_conv3 (Conv2D)        (None, 64, 64, 256)       590080    \n",
            "_________________________________________________________________\n",
            "block3_conv4 (Conv2D)        (None, 64, 64, 256)       590080    \n",
            "_________________________________________________________________\n",
            "block3_pool (MaxPooling2D)   (None, 32, 32, 256)       0         \n",
            "_________________________________________________________________\n",
            "block4_conv1 (Conv2D)        (None, 32, 32, 512)       1180160   \n",
            "_________________________________________________________________\n",
            "block4_conv2 (Conv2D)        (None, 32, 32, 512)       2359808   \n",
            "_________________________________________________________________\n",
            "block4_conv3 (Conv2D)        (None, 32, 32, 512)       2359808   \n",
            "_________________________________________________________________\n",
            "block4_conv4 (Conv2D)        (None, 32, 32, 512)       2359808   \n",
            "_________________________________________________________________\n",
            "block4_pool (MaxPooling2D)   (None, 16, 16, 512)       0         \n",
            "_________________________________________________________________\n",
            "block5_conv1 (Conv2D)        (None, 16, 16, 512)       2359808   \n",
            "_________________________________________________________________\n",
            "block5_conv2 (Conv2D)        (None, 16, 16, 512)       2359808   \n",
            "_________________________________________________________________\n",
            "block5_conv3 (Conv2D)        (None, 16, 16, 512)       2359808   \n",
            "_________________________________________________________________\n",
            "block5_conv4 (Conv2D)        (None, 16, 16, 512)       2359808   \n",
            "_________________________________________________________________\n",
            "block5_pool (MaxPooling2D)   (None, 8, 8, 512)         0         \n",
            "_________________________________________________________________\n",
            "flatten_1 (Flatten)          (None, 32768)             0         \n",
            "_________________________________________________________________\n",
            "dense_1 (Dense)              (None, 1024)              33555456  \n",
            "_________________________________________________________________\n",
            "dense_2 (Dense)              (None, 8)                 8200      \n",
            "=================================================================\n",
            "Total params: 53,588,040\n",
            "Trainable params: 35,923,464\n",
            "Non-trainable params: 17,664,576\n",
            "_________________________________________________________________\n"
          ],
          "name": "stdout"
        }
      ]
    },
    {
      "cell_type": "code",
      "metadata": {
        "id": "v5eev6bjioaV",
        "colab_type": "code",
        "outputId": "95e5e63e-621f-41cb-9031-8a19bb911a2c",
        "colab": {
          "base_uri": "https://localhost:8080/",
          "height": 54
        }
      },
      "source": [
        "\n",
        "ImageFile.LOAD_TRUNCATED_IMAGES = True\n",
        "#data augumentation in train set\n",
        "train_data_generator = ImageDataGenerator(\n",
        "    horizontal_flip=True,\n",
        "    rescale = 1./255,\n",
        "    fill_mode ='nearest',\n",
        "    zoom_range = 0.3,\n",
        "    width_shift_range=0.3,\n",
        "    height_shift_range=0.3,\n",
        "    rotation_range=30\n",
        "\n",
        ")\n",
        "#data augumentation in valid test\n",
        "valid_data_generator = ImageDataGenerator(\n",
        "    horizontal_flip =True,\n",
        "    rescale = 1./255,\n",
        "    fill_mode='nearest',\n",
        "    zoom_range = 0.3,\n",
        "    width_shift_range = 0.3,\n",
        "    rotation_range = 30,\n",
        "    height_shift_range = 0.3\n",
        ")\n",
        "\n",
        "#specifying train data directory and resize\n",
        "train_generator = train_data_generator.flow_from_directory(\n",
        "    train_path,\n",
        "    target_size = (image_height, image_width),\n",
        "    class_mode = 'categorical'\n",
        ")\n",
        "\n",
        "#specifying test data directory and resize \n",
        "valid_generator = valid_data_generator.flow_from_directory(\n",
        "    valid_path,\n",
        "    target_size = (image_height, image_width),\n",
        "    class_mode = 'categorical'\n",
        ")\n"
      ],
      "execution_count": 0,
      "outputs": [
        {
          "output_type": "stream",
          "text": [
            "Found 2000 images belonging to 8 classes.\n",
            "Found 560 images belonging to 8 classes.\n"
          ],
          "name": "stdout"
        }
      ]
    },
    {
      "cell_type": "code",
      "metadata": {
        "id": "dg0N6_cMtOJO",
        "colab_type": "code",
        "outputId": "2a5cb797-af7b-48b3-e5e2-d1745e4581ee",
        "colab": {
          "base_uri": "https://localhost:8080/",
          "height": 1000
        }
      },
      "source": [
        "#fit the model \n",
        "model_final.fit_generator(train_generator,\n",
        "                          samples_per_epoch=no_of_training_sample, \n",
        "                          epochs= epochs, \n",
        "                          validation_data=valid_generator,\n",
        "                          \n",
        ")"
      ],
      "execution_count": 0,
      "outputs": [
        {
          "output_type": "stream",
          "text": [
            "/usr/local/lib/python3.6/dist-packages/ipykernel_launcher.py:4: UserWarning: Update your `fit_generator` call to the Keras 2 API: `fit_generator(<keras.pre..., epochs=70, validation_data=<keras.pre..., steps_per_epoch=7)`\n",
            "  after removing the cwd from sys.path.\n"
          ],
          "name": "stderr"
        },
        {
          "output_type": "stream",
          "text": [
            "Epoch 1/70\n",
            "7/7 [==============================] - 469s 67s/step - loss: 9.6696 - accuracy: 0.1429 - val_loss: 2.2738 - val_accuracy: 0.1357\n",
            "Epoch 2/70\n",
            "7/7 [==============================] - 384s 55s/step - loss: 2.0437 - accuracy: 0.2277 - val_loss: 1.9736 - val_accuracy: 0.2589\n",
            "Epoch 3/70\n",
            "7/7 [==============================] - 378s 54s/step - loss: 1.6761 - accuracy: 0.3438 - val_loss: 1.7163 - val_accuracy: 0.3375\n",
            "Epoch 4/70\n",
            "7/7 [==============================] - 381s 54s/step - loss: 1.6384 - accuracy: 0.3929 - val_loss: 1.3733 - val_accuracy: 0.3982\n",
            "Epoch 5/70\n",
            "7/7 [==============================] - 379s 54s/step - loss: 1.3425 - accuracy: 0.4777 - val_loss: 1.4970 - val_accuracy: 0.3661\n",
            "Epoch 6/70\n",
            "7/7 [==============================] - 380s 54s/step - loss: 1.3043 - accuracy: 0.5045 - val_loss: 1.1564 - val_accuracy: 0.4982\n",
            "Epoch 7/70\n",
            "7/7 [==============================] - 379s 54s/step - loss: 1.0689 - accuracy: 0.6205 - val_loss: 1.8073 - val_accuracy: 0.5339\n",
            "Epoch 8/70\n",
            "7/7 [==============================] - 368s 53s/step - loss: 1.0262 - accuracy: 0.5804 - val_loss: 0.9992 - val_accuracy: 0.5696\n",
            "Epoch 9/70\n",
            "7/7 [==============================] - 381s 54s/step - loss: 1.1075 - accuracy: 0.6010 - val_loss: 1.6979 - val_accuracy: 0.5125\n",
            "Epoch 10/70\n",
            "7/7 [==============================] - 377s 54s/step - loss: 0.8025 - accuracy: 0.7098 - val_loss: 1.2453 - val_accuracy: 0.6054\n",
            "Epoch 11/70\n",
            "7/7 [==============================] - 380s 54s/step - loss: 0.8798 - accuracy: 0.6920 - val_loss: 0.9652 - val_accuracy: 0.6500\n",
            "Epoch 12/70\n",
            "7/7 [==============================] - 379s 54s/step - loss: 0.7045 - accuracy: 0.7589 - val_loss: 0.7156 - val_accuracy: 0.6714\n",
            "Epoch 13/70\n",
            "7/7 [==============================] - 380s 54s/step - loss: 0.6984 - accuracy: 0.7634 - val_loss: 1.3229 - val_accuracy: 0.6768\n",
            "Epoch 14/70\n",
            "7/7 [==============================] - 378s 54s/step - loss: 0.8054 - accuracy: 0.7143 - val_loss: 1.4477 - val_accuracy: 0.6536\n",
            "Epoch 15/70\n",
            "7/7 [==============================] - 378s 54s/step - loss: 0.7694 - accuracy: 0.7054 - val_loss: 1.2998 - val_accuracy: 0.6018\n",
            "Epoch 16/70\n",
            "7/7 [==============================] - 380s 54s/step - loss: 0.6739 - accuracy: 0.7500 - val_loss: 1.3570 - val_accuracy: 0.6554\n",
            "Epoch 17/70\n",
            "7/7 [==============================] - 362s 52s/step - loss: 0.5939 - accuracy: 0.7885 - val_loss: 0.5751 - val_accuracy: 0.7393\n",
            "Epoch 18/70\n",
            "7/7 [==============================] - 388s 55s/step - loss: 0.6649 - accuracy: 0.7455 - val_loss: 1.7178 - val_accuracy: 0.7107\n",
            "Epoch 19/70\n",
            "7/7 [==============================] - 376s 54s/step - loss: 0.6564 - accuracy: 0.7188 - val_loss: 1.0671 - val_accuracy: 0.6196\n",
            "Epoch 20/70\n",
            "7/7 [==============================] - 383s 55s/step - loss: 0.6989 - accuracy: 0.7500 - val_loss: 1.0509 - val_accuracy: 0.7768\n",
            "Epoch 21/70\n",
            "7/7 [==============================] - 378s 54s/step - loss: 0.5902 - accuracy: 0.7768 - val_loss: 1.1778 - val_accuracy: 0.7125\n",
            "Epoch 22/70\n",
            "7/7 [==============================] - 378s 54s/step - loss: 0.7294 - accuracy: 0.7768 - val_loss: 0.7961 - val_accuracy: 0.6946\n",
            "Epoch 23/70\n",
            "7/7 [==============================] - 379s 54s/step - loss: 0.4804 - accuracy: 0.8304 - val_loss: 1.3188 - val_accuracy: 0.7304\n",
            "Epoch 24/70\n",
            "7/7 [==============================] - 381s 54s/step - loss: 0.4964 - accuracy: 0.8214 - val_loss: 1.8251 - val_accuracy: 0.7304\n",
            "Epoch 25/70\n",
            "7/7 [==============================] - 377s 54s/step - loss: 0.4310 - accuracy: 0.8527 - val_loss: 0.9242 - val_accuracy: 0.6661\n",
            "Epoch 26/70\n",
            "7/7 [==============================] - 372s 53s/step - loss: 0.5213 - accuracy: 0.8036 - val_loss: 1.2232 - val_accuracy: 0.7821\n",
            "Epoch 27/70\n",
            "7/7 [==============================] - 383s 55s/step - loss: 0.4976 - accuracy: 0.8173 - val_loss: 0.5494 - val_accuracy: 0.7321\n",
            "Epoch 28/70\n",
            "7/7 [==============================] - 378s 54s/step - loss: 0.4107 - accuracy: 0.8527 - val_loss: 0.2525 - val_accuracy: 0.7732\n",
            "Epoch 29/70\n",
            "7/7 [==============================] - 379s 54s/step - loss: 0.4500 - accuracy: 0.8571 - val_loss: 0.5303 - val_accuracy: 0.7625\n",
            "Epoch 30/70\n",
            "7/7 [==============================] - 379s 54s/step - loss: 0.4909 - accuracy: 0.8393 - val_loss: 0.4878 - val_accuracy: 0.7875\n",
            "Epoch 31/70\n",
            "7/7 [==============================] - 378s 54s/step - loss: 0.4928 - accuracy: 0.8438 - val_loss: 1.0621 - val_accuracy: 0.7500\n",
            "Epoch 32/70\n",
            "7/7 [==============================] - 378s 54s/step - loss: 0.4721 - accuracy: 0.8214 - val_loss: 0.7583 - val_accuracy: 0.7554\n",
            "Epoch 33/70\n",
            "7/7 [==============================] - 387s 55s/step - loss: 0.5417 - accuracy: 0.7768 - val_loss: 0.6288 - val_accuracy: 0.7589\n",
            "Epoch 34/70\n",
            "7/7 [==============================] - 373s 53s/step - loss: 0.5504 - accuracy: 0.7837 - val_loss: 0.3674 - val_accuracy: 0.7768\n",
            "Epoch 35/70\n",
            "7/7 [==============================] - 369s 53s/step - loss: 0.5000 - accuracy: 0.8304 - val_loss: 0.7127 - val_accuracy: 0.7946\n",
            "Epoch 36/70\n",
            "7/7 [==============================] - 390s 56s/step - loss: 0.4557 - accuracy: 0.8571 - val_loss: 0.8174 - val_accuracy: 0.7536\n",
            "Epoch 37/70\n",
            "7/7 [==============================] - 378s 54s/step - loss: 0.4555 - accuracy: 0.8705 - val_loss: 0.7658 - val_accuracy: 0.8036\n",
            "Epoch 38/70\n",
            "7/7 [==============================] - 377s 54s/step - loss: 0.4773 - accuracy: 0.8438 - val_loss: 0.5892 - val_accuracy: 0.7714\n",
            "Epoch 39/70\n",
            "7/7 [==============================] - 385s 55s/step - loss: 0.3454 - accuracy: 0.8795 - val_loss: 0.7282 - val_accuracy: 0.7679\n",
            "Epoch 40/70\n",
            "7/7 [==============================] - 377s 54s/step - loss: 0.5108 - accuracy: 0.8214 - val_loss: 1.3227 - val_accuracy: 0.6661\n",
            "Epoch 41/70\n",
            "7/7 [==============================] - 378s 54s/step - loss: 0.5225 - accuracy: 0.7991 - val_loss: 0.6264 - val_accuracy: 0.7321\n",
            "Epoch 42/70\n",
            "7/7 [==============================] - 378s 54s/step - loss: 0.4237 - accuracy: 0.8527 - val_loss: 0.4035 - val_accuracy: 0.8018\n",
            "Epoch 43/70\n",
            "7/7 [==============================] - 376s 54s/step - loss: 0.4179 - accuracy: 0.8527 - val_loss: 0.0965 - val_accuracy: 0.7839\n",
            "Epoch 44/70\n",
            "7/7 [==============================] - 372s 53s/step - loss: 0.3580 - accuracy: 0.8616 - val_loss: 0.3207 - val_accuracy: 0.8018\n",
            "Epoch 45/70\n",
            "7/7 [==============================] - 380s 54s/step - loss: 0.3168 - accuracy: 0.8750 - val_loss: 2.4279 - val_accuracy: 0.7839\n",
            "Epoch 46/70\n",
            "7/7 [==============================] - 371s 53s/step - loss: 0.3012 - accuracy: 0.8798 - val_loss: 0.2923 - val_accuracy: 0.8179\n",
            "Epoch 47/70\n",
            "7/7 [==============================] - 377s 54s/step - loss: 0.3931 - accuracy: 0.8839 - val_loss: 0.8348 - val_accuracy: 0.7982\n",
            "Epoch 48/70\n",
            "7/7 [==============================] - 377s 54s/step - loss: 0.2678 - accuracy: 0.9062 - val_loss: 0.4487 - val_accuracy: 0.8339\n",
            "Epoch 49/70\n",
            "7/7 [==============================] - 381s 54s/step - loss: 0.4267 - accuracy: 0.8571 - val_loss: 0.6170 - val_accuracy: 0.7679\n",
            "Epoch 50/70\n",
            "7/7 [==============================] - 378s 54s/step - loss: 0.4637 - accuracy: 0.8438 - val_loss: 0.4529 - val_accuracy: 0.8036\n",
            "Epoch 51/70\n",
            "7/7 [==============================] - 380s 54s/step - loss: 0.3806 - accuracy: 0.8705 - val_loss: 0.7979 - val_accuracy: 0.7839\n",
            "Epoch 52/70\n",
            "7/7 [==============================] - 380s 54s/step - loss: 0.3966 - accuracy: 0.8884 - val_loss: 0.4440 - val_accuracy: 0.8125\n",
            "Epoch 53/70\n",
            "7/7 [==============================] - 369s 53s/step - loss: 0.3561 - accuracy: 0.8705 - val_loss: 1.6258 - val_accuracy: 0.7857\n",
            "Epoch 54/70\n",
            "7/7 [==============================] - 393s 56s/step - loss: 0.2661 - accuracy: 0.9018 - val_loss: 0.2792 - val_accuracy: 0.8268\n",
            "Epoch 55/70\n",
            "7/7 [==============================] - 379s 54s/step - loss: 0.2626 - accuracy: 0.9018 - val_loss: 0.7930 - val_accuracy: 0.8089\n",
            "Epoch 56/70\n",
            "7/7 [==============================] - 377s 54s/step - loss: 0.2277 - accuracy: 0.9152 - val_loss: 0.7467 - val_accuracy: 0.8393\n",
            "Epoch 57/70\n",
            "7/7 [==============================] - 376s 54s/step - loss: 0.3722 - accuracy: 0.8438 - val_loss: 0.1921 - val_accuracy: 0.8500\n",
            "Epoch 58/70\n",
            "7/7 [==============================] - 384s 55s/step - loss: 0.2707 - accuracy: 0.8929 - val_loss: 0.9292 - val_accuracy: 0.7875\n",
            "Epoch 59/70\n",
            "7/7 [==============================] - 372s 53s/step - loss: 0.3321 - accuracy: 0.8846 - val_loss: 0.2908 - val_accuracy: 0.8250\n",
            "Epoch 60/70\n",
            "7/7 [==============================] - 379s 54s/step - loss: 0.3722 - accuracy: 0.8482 - val_loss: 1.2245 - val_accuracy: 0.7732\n",
            "Epoch 61/70\n",
            "7/7 [==============================] - 379s 54s/step - loss: 0.2731 - accuracy: 0.9152 - val_loss: 0.3261 - val_accuracy: 0.8268\n",
            "Epoch 62/70\n",
            "7/7 [==============================] - 369s 53s/step - loss: 0.2650 - accuracy: 0.8929 - val_loss: 0.6748 - val_accuracy: 0.7607\n",
            "Epoch 63/70\n",
            "7/7 [==============================] - 394s 56s/step - loss: 0.2989 - accuracy: 0.8929 - val_loss: 0.5659 - val_accuracy: 0.7893\n",
            "Epoch 64/70\n",
            "7/7 [==============================] - 380s 54s/step - loss: 0.2501 - accuracy: 0.9152 - val_loss: 1.9500 - val_accuracy: 0.8232\n",
            "Epoch 65/70\n",
            "7/7 [==============================] - 378s 54s/step - loss: 0.3395 - accuracy: 0.8929 - val_loss: 0.5184 - val_accuracy: 0.8661\n",
            "Epoch 66/70\n",
            "7/7 [==============================] - 379s 54s/step - loss: 0.3337 - accuracy: 0.8973 - val_loss: 0.2287 - val_accuracy: 0.8554\n",
            "Epoch 67/70\n",
            "7/7 [==============================] - 376s 54s/step - loss: 0.2489 - accuracy: 0.9420 - val_loss: 0.7201 - val_accuracy: 0.8375\n",
            "Epoch 68/70\n",
            "7/7 [==============================] - 372s 53s/step - loss: 0.1229 - accuracy: 0.9567 - val_loss: 0.2280 - val_accuracy: 0.8179\n",
            "Epoch 69/70\n",
            "7/7 [==============================] - 391s 56s/step - loss: 0.1963 - accuracy: 0.9286 - val_loss: 0.8734 - val_accuracy: 0.8589\n",
            "Epoch 70/70\n",
            "7/7 [==============================] - 380s 54s/step - loss: 0.2739 - accuracy: 0.9018 - val_loss: 1.5651 - val_accuracy: 0.8179\n"
          ],
          "name": "stdout"
        },
        {
          "output_type": "execute_result",
          "data": {
            "text/plain": [
              "<keras.callbacks.callbacks.History at 0x7fdf1cb16390>"
            ]
          },
          "metadata": {
            "tags": []
          },
          "execution_count": 7
        }
      ]
    }
  ]
}